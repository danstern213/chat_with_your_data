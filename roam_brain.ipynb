{
 "cells": [
  {
   "cell_type": "code",
   "execution_count": 6,
   "metadata": {},
   "outputs": [],
   "source": [
    "### A few options:\n",
    "## https://github.com/sowole-aims/chat-with-documents-app\n",
    "\n",
    "## 4.21 So far all I've figured out how to do is embed markdown with Chroma.  Need to actually figure out how to properly do querying"
   ]
  },
  {
   "cell_type": "code",
   "execution_count": 1,
   "metadata": {},
   "outputs": [],
   "source": [
    "import os\n",
    "import chromadb\n",
    "from chromadb.utils import embedding_functions\n",
    "\n",
    "def load_journal_entries(directory_path):\n",
    "    journal_data = {}\n",
    "    files = os.listdir(directory_path)\n",
    "\n",
    "    for filename in files:\n",
    "        if filename.endswith('.md'):\n",
    "            # Use the filename without the extension as the key\n",
    "            title = filename[:-3]  # Remove the .md extension\n",
    "            \n",
    "            # Read the file content\n",
    "            filepath = os.path.join(directory_path, filename)\n",
    "            with open(filepath, 'r', encoding='utf-8') as file:\n",
    "                content = file.read()\n",
    "            \n",
    "            journal_data[title] = content\n",
    "\n",
    "    return journal_data\n",
    "\n",
    "# Example of loading data from a specified directory\n",
    "journal_data = load_journal_entries('/Users/danstern/Desktop/Roam/Export_Test')\n"
   ]
  },
  {
   "cell_type": "code",
   "execution_count": 2,
   "metadata": {},
   "outputs": [
    {
     "name": "stderr",
     "output_type": "stream",
     "text": [
      "/Users/danstern/Library/Python/3.9/lib/python/site-packages/tqdm/auto.py:21: TqdmWarning: IProgress not found. Please update jupyter and ipywidgets. See https://ipywidgets.readthedocs.io/en/stable/user_install.html\n",
      "  from .autonotebook import tqdm as notebook_tqdm\n"
     ]
    }
   ],
   "source": [
    "client = chromadb.Client()\n",
    "\n",
    "### Added this because it was causing runtime issues.  See here: https://github.com/chroma-core/chroma/issues/2013\n",
    "sentence_transformer_ef = embedding_functions.SentenceTransformerEmbeddingFunction(model_name=\"all-MiniLM-L6-v2\")\n",
    "\n",
    "# Create collection. get_collection, get_or_create_collection, delete_collection also available!\n",
    "collection = client.create_collection(name=\"all-my-documents\", embedding_function=sentence_transformer_ef)"
   ]
  },
  {
   "cell_type": "code",
   "execution_count": 3,
   "metadata": {},
   "outputs": [],
   "source": [
    "## Prep my data\n",
    "\n",
    "value_of_content = list(journal_data.values())\n",
    "titles = list(journal_data.keys())\n",
    "metadata_titles = [{\"title\": value} for value in titles]\n"
   ]
  },
  {
   "cell_type": "code",
   "execution_count": 4,
   "metadata": {},
   "outputs": [],
   "source": [
    "# Add docs to the collection. Can also update and delete. Row-based API coming soon!\n",
    "collection.add(\n",
    "    documents=value_of_content,\n",
    "    metadatas=metadata_titles, # filter on these!\n",
    "    ids=titles # unique for each doc\n",
    ")"
   ]
  },
  {
   "cell_type": "code",
   "execution_count": 5,
   "metadata": {},
   "outputs": [
    {
     "data": {
      "text/plain": [
       "3"
      ]
     },
     "execution_count": 5,
     "metadata": {},
     "output_type": "execute_result"
    }
   ],
   "source": [
    "collection.count()"
   ]
  },
  {
   "cell_type": "code",
   "execution_count": null,
   "metadata": {},
   "outputs": [],
   "source": []
  }
 ],
 "metadata": {
  "kernelspec": {
   "display_name": "Python 3.9.6 64-bit",
   "language": "python",
   "name": "python3"
  },
  "language_info": {
   "codemirror_mode": {
    "name": "ipython",
    "version": 3
   },
   "file_extension": ".py",
   "mimetype": "text/x-python",
   "name": "python",
   "nbconvert_exporter": "python",
   "pygments_lexer": "ipython3",
   "version": "3.9.6"
  },
  "orig_nbformat": 4,
  "vscode": {
   "interpreter": {
    "hash": "31f2aee4e71d21fbe5cf8b01ff0e069b9275f58929596ceb00d14d90e3e16cd6"
   }
  }
 },
 "nbformat": 4,
 "nbformat_minor": 2
}
